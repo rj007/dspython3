{
 "cells": [
  {
   "cell_type": "code",
   "execution_count": 1,
   "metadata": {},
   "outputs": [
    {
     "data": {
      "text/plain": [
       "[(1, 'a'), (2, 'b'), (3, 'c')]"
      ]
     },
     "execution_count": 1,
     "metadata": {},
     "output_type": "execute_result"
    }
   ],
   "source": [
    "#zip()\n",
    "numbers = [1,2,3,4]\n",
    "letters = ['a','b','c']\n",
    "zipp=zip(numbers,letters)\n",
    "list(zipp)"
   ]
  },
  {
   "cell_type": "code",
   "execution_count": 3,
   "metadata": {},
   "outputs": [
    {
     "name": "stdout",
     "output_type": "stream",
     "text": [
      "The sum of the list elements is : 17\n"
     ]
    }
   ],
   "source": [
    "# importing functools for reduce()\n",
    "import functools\n",
    "  \n",
    "# importing operator for operator functions\n",
    "import operator\n",
    "  \n",
    "# initializing list\n",
    "lis = [ 1 , 3, 5, 6, 2, ]\n",
    "  \n",
    "# using reduce to compute sum of list\n",
    "# using operator functions\n",
    "print (\"The sum of the list elements is : \",end=\"\")\n",
    "print (functools.reduce(operator.add,lis))\n"
   ]
  },
  {
   "cell_type": "code",
   "execution_count": 4,
   "metadata": {},
   "outputs": [
    {
     "name": "stdout",
     "output_type": "stream",
     "text": [
      "(0, 'eat')\n",
      "(1, 'sleep')\n",
      "(2, 'repeat')\n",
      "100 eat\n",
      "101 sleep\n",
      "102 repeat\n"
     ]
    }
   ],
   "source": [
    "# enumerate function in loops\n",
    "l1 = [\"eat\",\"sleep\",\"repeat\"]\n",
    " \n",
    "# printing the tuples in object directly\n",
    "for i in enumerate(l1):\n",
    "    print (i)\n",
    "print\n",
    "# changing index and printing separately\n",
    "for count,i in enumerate(l1,100):\n",
    "    print (count,i)\n"
   ]
  },
  {
   "cell_type": "code",
   "execution_count": null,
   "metadata": {},
   "outputs": [],
   "source": []
  }
 ],
 "metadata": {
  "kernelspec": {
   "display_name": "Python 3",
   "language": "python",
   "name": "python3"
  },
  "language_info": {
   "codemirror_mode": {
    "name": "ipython",
    "version": 3
   },
   "file_extension": ".py",
   "mimetype": "text/x-python",
   "name": "python",
   "nbconvert_exporter": "python",
   "pygments_lexer": "ipython3",
   "version": "3.8.3"
  }
 },
 "nbformat": 4,
 "nbformat_minor": 4
}
