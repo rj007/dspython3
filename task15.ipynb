{
 "cells": [
  {
   "cell_type": "code",
   "execution_count": 3,
   "metadata": {},
   "outputs": [],
   "source": [
    "#Create a dataframe, save it as a CSV file ,set index as random\n",
    "import numpy as np\n",
    "import pandas as pd\n",
    "df=pd.DataFrame(np.random.randn(4, 4), columns = list('ABCD'))\n",
    "df.to_csv('example.csv', index=False)"
   ]
  },
  {
   "cell_type": "code",
   "execution_count": 6,
   "metadata": {},
   "outputs": [
    {
     "name": "stdout",
     "output_type": "stream",
     "text": [
      "     Name  Age    Address Qualification\n",
      "0     Jai   27     Nagpur           Msc\n",
      "1  Princi   24     Kanpur            MA\n",
      "2  Gaurav   22  Allahabad           MCA \n",
      "\n",
      "      Name  Age    Address Qualification\n",
      "3    Abhi   17     Nagpur         Btech\n",
      "4  Ayushi   14     Kanpur           B.A\n",
      "5  Dhiraj   12  Allahabad          Bcom\n"
     ]
    }
   ],
   "source": [
    "#2.Create dataframe,the merge it with a new column\n",
    "import pandas as pd \n",
    " \n",
    "# Define a dictionary containing employee data \n",
    "data1 = {'Name':['Jai', 'Princi', 'Gaurav'], \n",
    "        'Age':[27, 24, 22], \n",
    "        'Address':['Nagpur', 'Kanpur', 'Allahabad'], \n",
    "        'Qualification':['Msc', 'MA', 'MCA']} \n",
    "   \n",
    "# Define a dictionary containing employee data \n",
    "data2 = {'Name':['Abhi', 'Ayushi', 'Dhiraj'], \n",
    "        'Age':[17, 14, 12], \n",
    "        'Address':['Nagpur', 'Kanpur', 'Allahabad'], \n",
    "        'Qualification':['Btech', 'B.A', 'Bcom']} \n",
    " \n",
    "# Convert the dictionary into DataFrame  \n",
    "df = pd.DataFrame(data1,index=[0, 1, 2])\n",
    " \n",
    "# Convert the dictionary into DataFrame  \n",
    "df1 = pd.DataFrame(data2, index=[3,4, 5])\n",
    " \n",
    "print(df, \"\\n\\n\", df1) "
   ]
  },
  {
   "cell_type": "code",
   "execution_count": 5,
   "metadata": {},
   "outputs": [
    {
     "data": {
      "text/html": [
       "<div>\n",
       "<style scoped>\n",
       "    .dataframe tbody tr th:only-of-type {\n",
       "        vertical-align: middle;\n",
       "    }\n",
       "\n",
       "    .dataframe tbody tr th {\n",
       "        vertical-align: top;\n",
       "    }\n",
       "\n",
       "    .dataframe thead th {\n",
       "        text-align: right;\n",
       "    }\n",
       "</style>\n",
       "<table border=\"1\" class=\"dataframe\">\n",
       "  <thead>\n",
       "    <tr style=\"text-align: right;\">\n",
       "      <th></th>\n",
       "      <th>Name</th>\n",
       "      <th>Age</th>\n",
       "      <th>Address</th>\n",
       "      <th>Qualification</th>\n",
       "    </tr>\n",
       "  </thead>\n",
       "  <tbody>\n",
       "    <tr>\n",
       "      <th>0</th>\n",
       "      <td>Jai</td>\n",
       "      <td>27</td>\n",
       "      <td>Nagpur</td>\n",
       "      <td>Msc</td>\n",
       "    </tr>\n",
       "    <tr>\n",
       "      <th>1</th>\n",
       "      <td>Princi</td>\n",
       "      <td>24</td>\n",
       "      <td>Kanpur</td>\n",
       "      <td>MA</td>\n",
       "    </tr>\n",
       "    <tr>\n",
       "      <th>2</th>\n",
       "      <td>Gaurav</td>\n",
       "      <td>22</td>\n",
       "      <td>Allahabad</td>\n",
       "      <td>MCA</td>\n",
       "    </tr>\n",
       "    <tr>\n",
       "      <th>3</th>\n",
       "      <td>Anuj</td>\n",
       "      <td>32</td>\n",
       "      <td>Kannuaj</td>\n",
       "      <td>Phd</td>\n",
       "    </tr>\n",
       "    <tr>\n",
       "      <th>4</th>\n",
       "      <td>Abhi</td>\n",
       "      <td>17</td>\n",
       "      <td>Nagpur</td>\n",
       "      <td>Btech</td>\n",
       "    </tr>\n",
       "    <tr>\n",
       "      <th>5</th>\n",
       "      <td>Ayushi</td>\n",
       "      <td>14</td>\n",
       "      <td>Kanpur</td>\n",
       "      <td>B.A</td>\n",
       "    </tr>\n",
       "    <tr>\n",
       "      <th>6</th>\n",
       "      <td>Dhiraj</td>\n",
       "      <td>12</td>\n",
       "      <td>Allahabad</td>\n",
       "      <td>Bcom</td>\n",
       "    </tr>\n",
       "    <tr>\n",
       "      <th>7</th>\n",
       "      <td>Hitesh</td>\n",
       "      <td>52</td>\n",
       "      <td>Kannuaj</td>\n",
       "      <td>B.hons</td>\n",
       "    </tr>\n",
       "  </tbody>\n",
       "</table>\n",
       "</div>"
      ],
      "text/plain": [
       "     Name  Age    Address Qualification\n",
       "0     Jai   27     Nagpur           Msc\n",
       "1  Princi   24     Kanpur            MA\n",
       "2  Gaurav   22  Allahabad           MCA\n",
       "3    Anuj   32    Kannuaj           Phd\n",
       "4    Abhi   17     Nagpur         Btech\n",
       "5  Ayushi   14     Kanpur           B.A\n",
       "6  Dhiraj   12  Allahabad          Bcom\n",
       "7  Hitesh   52    Kannuaj        B.hons"
      ]
     },
     "execution_count": 5,
     "metadata": {},
     "output_type": "execute_result"
    }
   ],
   "source": [
    "# using a .concat() method\n",
    "frames = [df, df1]\n",
    " \n",
    "res1 = pd.concat(frames)\n",
    "res1"
   ]
  },
  {
   "cell_type": "code",
   "execution_count": null,
   "metadata": {},
   "outputs": [],
   "source": []
  }
 ],
 "metadata": {
  "kernelspec": {
   "display_name": "Python 3",
   "language": "python",
   "name": "python3"
  },
  "language_info": {
   "codemirror_mode": {
    "name": "ipython",
    "version": 3
   },
   "file_extension": ".py",
   "mimetype": "text/x-python",
   "name": "python",
   "nbconvert_exporter": "python",
   "pygments_lexer": "ipython3",
   "version": "3.8.3"
  }
 },
 "nbformat": 4,
 "nbformat_minor": 4
}
