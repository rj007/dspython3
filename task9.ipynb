{
 "cells": [
  {
   "cell_type": "code",
   "execution_count": 1,
   "metadata": {},
   "outputs": [
    {
     "name": "stdout",
     "output_type": "stream",
     "text": [
      "enter the first number : 100889\n",
      "enter the second number :12\n"
     ]
    }
   ],
   "source": [
    "# Ask 2 numbers from users and store it in num1 and num2\n",
    "num1 = input(\"enter the first number : \")\n",
    "num2 = input(\"enter the second number :\")"
   ]
  },
  {
   "cell_type": "code",
   "execution_count": 10,
   "metadata": {},
   "outputs": [
    {
     "name": "stdout",
     "output_type": "stream",
     "text": [
      "select operation\n",
      "1.add\n",
      "2.sub\n",
      "3.multi\n",
      "4.divide\n",
      "enter opration number:1\n"
     ]
    }
   ],
   "source": [
    "#Ask users to press 1 for addition, 2 for subtraction ,3 for multi and 4 for division\n",
    "print(\"select operation\")\n",
    "print(\"1.add\")\n",
    "print(\"2.sub\")\n",
    "print(\"3.multi\")\n",
    "print(\"4.divide\")\n",
    "operation = input(\"enter opration number:\")"
   ]
  },
  {
   "cell_type": "code",
   "execution_count": 12,
   "metadata": {},
   "outputs": [
    {
     "name": "stdout",
     "output_type": "stream",
     "text": [
      "100889 + 12 = 10088912\n"
     ]
    }
   ],
   "source": [
    "#based on number given by user do math operation\n",
    "def add(x,y):\n",
    "    return x+y\n",
    "def sub(x,y):\n",
    "    return x-y\n",
    "def multi(x,y):\n",
    "    return x*y\n",
    "def division(x,y):\n",
    "    return x/y\n",
    "if operation == \"1\":\n",
    "    print(num1,'+',num2,'=',add(num1,num2))\n",
    "elif operation ==\"2\":\n",
    "    print(num1,\"-\",num2,'=',sub(num1,num2))\n",
    "elif operation == \"3\":\n",
    "    print(num1,'*',num2,'=',multi(num1,num2))\n",
    "elif operation == \"4\":\n",
    "    print(num1,'/',num2,'=',divide(num1,num2))\n",
    "else:\n",
    "    print(\"invalid input\")\n",
    "    "
   ]
  },
  {
   "cell_type": "code",
   "execution_count": null,
   "metadata": {},
   "outputs": [],
   "source": []
  }
 ],
 "metadata": {
  "kernelspec": {
   "display_name": "Python 3",
   "language": "python",
   "name": "python3"
  },
  "language_info": {
   "codemirror_mode": {
    "name": "ipython",
    "version": 3
   },
   "file_extension": ".py",
   "mimetype": "text/x-python",
   "name": "python",
   "nbconvert_exporter": "python",
   "pygments_lexer": "ipython3",
   "version": "3.8.3"
  }
 },
 "nbformat": 4,
 "nbformat_minor": 4
}
