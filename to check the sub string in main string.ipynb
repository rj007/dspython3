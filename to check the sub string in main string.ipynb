{
 "cells": [
  {
   "cell_type": "code",
   "execution_count": 1,
   "metadata": {},
   "outputs": [
    {
     "name": "stdout",
     "output_type": "stream",
     "text": [
      "YES,string 'geek' is present in string 'A geek in need is a geek indeed' \n"
     ]
    }
   ],
   "source": [
    "# When you have imported the re module, you can start using regular expressions. \n",
    "\n",
    "import re \n",
    "\n",
    "  \n",
    "# Take input from users \n",
    "\n",
    "MyString1 =  \"A geek in need is a geek indeed\"\n",
    "\n",
    "MyString2 =\"geek\"\n",
    "\n",
    "  \n",
    "# re.search() returns a Match object if there is a match anywhere in the string \n",
    "\n",
    "if re.search( MyString2, MyString1 ): \n",
    "\n",
    "    print(\"YES,string '{0}' is present in string '{1}' \" .format(MyString2,MyString1)) \n",
    "\n",
    "else: \n",
    "\n",
    "    print(\"NO,string '{0}' is not present in string {1} \" .format(MyString2, MyString1) ) \n",
    " "
   ]
  },
  {
   "cell_type": "code",
   "execution_count": null,
   "metadata": {},
   "outputs": [],
   "source": []
  }
 ],
 "metadata": {
  "kernelspec": {
   "display_name": "Python 3",
   "language": "python",
   "name": "python3"
  },
  "language_info": {
   "codemirror_mode": {
    "name": "ipython",
    "version": 3
   },
   "file_extension": ".py",
   "mimetype": "text/x-python",
   "name": "python",
   "nbconvert_exporter": "python",
   "pygments_lexer": "ipython3",
   "version": "3.8.3"
  }
 },
 "nbformat": 4,
 "nbformat_minor": 4
}
