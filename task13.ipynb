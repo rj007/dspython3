{
 "cells": [
  {
   "cell_type": "code",
   "execution_count": 5,
   "metadata": {},
   "outputs": [
    {
     "name": "stdout",
     "output_type": "stream",
     "text": [
      "2.00\n"
     ]
    }
   ],
   "source": [
    "#2.  Write a class and method under it to perform squareRoot, cuberoot and Nth root of a number.\n",
    "#Ex:- If I pass number 8 and 3, it should return cube root of 8. If I pass 16 and 4, it should retutn fourth root of 16.\n",
    "\n",
    "import numpy as np  \n",
    "  \n",
    "def kthRoot(n, k):  \n",
    "    return pow(k, ((1.0 / k) * \n",
    "                  (np.log(n) / \n",
    "                   np.log(k)))) \n",
    "\n",
    "n = 16\n",
    "k = 4\n",
    "  \n",
    "print(\"%.2f\" % kthRoot(n, k))  "
   ]
  },
  {
   "cell_type": "code",
   "execution_count": 6,
   "metadata": {},
   "outputs": [
    {
     "data": {
      "text/plain": [
       "[6, 5, 4, 3, 2, 1]"
      ]
     },
     "execution_count": 6,
     "metadata": {},
     "output_type": "execute_result"
    }
   ],
   "source": [
    "#3 Write a function which takes a list as input and returns list in a reverse order.\n",
    "#Ex: [1,3,4,5,6] the output should be [6,5,4,3,1]\n",
    "list=[1,2,3,4,5,6]\n",
    "list[::-1]"
   ]
  },
  {
   "cell_type": "code",
   "execution_count": 11,
   "metadata": {},
   "outputs": [
    {
     "name": "stdout",
     "output_type": "stream",
     "text": [
      "Enter First number : 1\n",
      "Enter Second number : 2\n",
      "Enter Third number : 3\n",
      "The largest of the 3 numbers is :  3\n",
      "The smallest of the 3 numbers is :  1\n"
     ]
    }
   ],
   "source": [
    "#4.  Write a class which takes three inputs and returns the smallest and the largest number.\n",
    "number1 = int(input('Enter First number : '))\n",
    "number2 = int(input('Enter Second number : '))\n",
    "number3 = int(input('Enter Third number : '))\n",
    "def largest(num1, num2, num3):\n",
    "    if (num1 > num2) and (num1 > num3):\n",
    "        largest_num = num1\n",
    "    elif (num2 > num1) and (num2 > num3):\n",
    "        largest_num = num2\n",
    "    else:\n",
    "        largest_num = num3\n",
    "    print(\"The largest of the 3 numbers is : \", largest_num)\n",
    "def smallest(num1, num2, num3):\n",
    "    if (num1 < num2) and (num1 < num3):\n",
    "        smallest_num = num1\n",
    "    elif (num2 < num1) and (num2 < num3):\n",
    "        smallest_num = num2\n",
    "    else:\n",
    "        smallest_num = num3\n",
    "    print(\"The smallest of the 3 numbers is : \", smallest_num)\n",
    "largest(number1, number2, number3)\n",
    "smallest(number1, number2, number3)"
   ]
  },
  {
   "cell_type": "code",
   "execution_count": 13,
   "metadata": {},
   "outputs": [
    {
     "name": "stdout",
     "output_type": "stream",
     "text": [
      "['e', 'h', 'l', 'o']\n"
     ]
    }
   ],
   "source": [
    "#1.  Write a function to remove duplicate values in a string.\n",
    "#Ex: ‘Hello’ as input, the output should be ‘Helo’. ‘Good’ as input, the output should be ‘God’.\n",
    "list1=['h','e','l','l','o']\n",
    "list2=np.unique(list1).tolist()\n",
    "print(list2)"
   ]
  },
  {
   "cell_type": "code",
   "execution_count": null,
   "metadata": {},
   "outputs": [],
   "source": []
  }
 ],
 "metadata": {
  "kernelspec": {
   "display_name": "Python 3",
   "language": "python",
   "name": "python3"
  },
  "language_info": {
   "codemirror_mode": {
    "name": "ipython",
    "version": 3
   },
   "file_extension": ".py",
   "mimetype": "text/x-python",
   "name": "python",
   "nbconvert_exporter": "python",
   "pygments_lexer": "ipython3",
   "version": "3.8.3"
  }
 },
 "nbformat": 4,
 "nbformat_minor": 4
}
