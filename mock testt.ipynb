{
 "cells": [
  {
   "cell_type": "code",
   "execution_count": 10,
   "metadata": {},
   "outputs": [
    {
     "name": "stdout",
     "output_type": "stream",
     "text": [
      "enter the number of elements:4\n",
      "2\n",
      "3\n",
      "4\n",
      "4\n",
      "[2.0, 3.0, 4.0, 4.0]\n",
      "largest element is : 4.0\n"
     ]
    },
    {
     "data": {
      "text/plain": [
       "list"
      ]
     },
     "execution_count": 10,
     "metadata": {},
     "output_type": "execute_result"
    }
   ],
   "source": [
    "list=[]\n",
    "n=int(int(input(\"enter the number of elements:\"))) #input\n",
    "for i in range (0,n):\n",
    "        try:                                      # handling\n",
    "            elem=float(input())\n",
    "        except:\n",
    "            print(\"entered value is not a number\")   #error\n",
    "            continue                                 #null\n",
    "        list.append(elem)\n",
    "print(list)\n",
    "print(\"largest element is :\",max(list))\n",
    "type(list)                                           #datatype"
   ]
  },
  {
   "cell_type": "code",
   "execution_count": null,
   "metadata": {},
   "outputs": [],
   "source": []
  },
  {
   "cell_type": "code",
   "execution_count": null,
   "metadata": {},
   "outputs": [],
   "source": []
  }
 ],
 "metadata": {
  "kernelspec": {
   "display_name": "Python 3",
   "language": "python",
   "name": "python3"
  },
  "language_info": {
   "codemirror_mode": {
    "name": "ipython",
    "version": 3
   },
   "file_extension": ".py",
   "mimetype": "text/x-python",
   "name": "python",
   "nbconvert_exporter": "python",
   "pygments_lexer": "ipython3",
   "version": "3.8.3"
  }
 },
 "nbformat": 4,
 "nbformat_minor": 4
}
